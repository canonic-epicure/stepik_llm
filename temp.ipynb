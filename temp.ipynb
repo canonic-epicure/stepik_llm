{
 "cells": [
  {
   "metadata": {
    "ExecuteTime": {
     "end_time": "2025-07-23T08:00:43.165090Z",
     "start_time": "2025-07-23T08:00:43.159136Z"
    }
   },
   "cell_type": "code",
   "source": [
    "import re\n",
    "import string\n",
    "\n",
    "punc = re.compile(f\"[{re.escape(string.punctuation)}]\")\n",
    "\n",
    "print(punc.search('asd\"...'))\n"
   ],
   "id": "94b5fb89e1eda522",
   "outputs": [
    {
     "name": "stdout",
     "output_type": "stream",
     "text": [
      "<_sre.SRE_Match object; span=(3, 4), match='\"'>\n"
     ]
    }
   ],
   "execution_count": 4
  },
  {
   "metadata": {
    "ExecuteTime": {
     "end_time": "2025-07-23T13:24:15.684468Z",
     "start_time": "2025-07-23T13:24:15.651374Z"
    }
   },
   "cell_type": "code",
   "source": [
    "import bpe\n",
    "\n",
    "tokenizer = bpe.BPE.load('./tokenizer.data')\n",
    "\n",
    "tokenizer\n",
    "\n",
    "\n",
    "\n"
   ],
   "id": "3ff2e4741d58c38b",
   "outputs": [
    {
     "data": {
      "text/plain": [
       "<bpe.BPE at 0x7befc1f3c908>"
      ]
     },
     "execution_count": 2,
     "metadata": {},
     "output_type": "execute_result"
    }
   ],
   "execution_count": 2
  }
 ],
 "metadata": {
  "kernelspec": {
   "display_name": "Python 3",
   "language": "python",
   "name": "python3"
  },
  "language_info": {
   "codemirror_mode": {
    "name": "ipython",
    "version": 2
   },
   "file_extension": ".py",
   "mimetype": "text/x-python",
   "name": "python",
   "nbconvert_exporter": "python",
   "pygments_lexer": "ipython2",
   "version": "2.7.6"
  }
 },
 "nbformat": 4,
 "nbformat_minor": 5
}
